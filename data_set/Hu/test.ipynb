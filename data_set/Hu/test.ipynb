{
 "cells": [
  {
   "cell_type": "code",
   "id": "initial_id",
   "metadata": {
    "collapsed": true,
    "ExecuteTime": {
     "end_time": "2025-07-31T21:47:02.885140Z",
     "start_time": "2025-07-31T21:47:02.861993Z"
    }
   },
   "source": [
    "import pandas as pd\n",
    "\n",
    "df = pd.read_csv('Hu_data_elongation.csv')\n",
    "\n",
    "# 查看df中的缺失值状况\n",
    "print(df.isnull())"
   ],
   "outputs": [
    {
     "name": "stdout",
     "output_type": "stream",
     "text": [
      "        Si     Fe     Cu     Mn     Mg     Cr     Ni     Zn     Ga      V  \\\n",
      "0    False  False  False  False  False  False  False  False  False  False   \n",
      "1    False  False  False  False  False  False  False  False  False  False   \n",
      "2    False  False  False  False  False  False  False  False  False  False   \n",
      "3    False  False  False  False  False  False  False  False  False  False   \n",
      "4    False  False  False  False  False  False  False  False  False  False   \n",
      "..     ...    ...    ...    ...    ...    ...    ...    ...    ...    ...   \n",
      "925  False  False  False  False  False  False  False  False  False  False   \n",
      "926  False  False  False  False  False  False  False  False  False  False   \n",
      "927  False  False  False  False  False  False  False  False  False  False   \n",
      "928  False  False  False  False  False  False  False  False  False  False   \n",
      "929  False  False  False  False  False  False  False  False  False  False   \n",
      "\n",
      "     ...  unspecified_prod  Plate   Foil    Rod  Die Forging   Ring  Forging  \\\n",
      "0    ...             False  False  False  False        False  False    False   \n",
      "1    ...             False  False  False  False        False  False    False   \n",
      "2    ...             False  False  False  False        False  False    False   \n",
      "3    ...             False  False  False  False        False  False    False   \n",
      "4    ...             False  False  False  False        False  False    False   \n",
      "..   ...               ...    ...    ...    ...          ...    ...      ...   \n",
      "925  ...             False  False  False  False        False  False    False   \n",
      "926  ...             False  False  False  False        False  False    False   \n",
      "927  ...             False  False  False  False        False  False    False   \n",
      "928  ...             False  False  False  False        False  False    False   \n",
      "929  ...             False  False  False  False        False  False    False   \n",
      "\n",
      "     Ingot  Fin Stock  ELONGATION  \n",
      "0    False      False       False  \n",
      "1    False      False        True  \n",
      "2    False      False       False  \n",
      "3    False      False        True  \n",
      "4    False      False       False  \n",
      "..     ...        ...         ...  \n",
      "925  False      False       False  \n",
      "926  False      False       False  \n",
      "927  False      False       False  \n",
      "928  False      False       False  \n",
      "929  False      False       False  \n",
      "\n",
      "[930 rows x 65 columns]\n"
     ]
    }
   ],
   "execution_count": 2
  },
  {
   "metadata": {
    "ExecuteTime": {
     "end_time": "2025-07-31T21:47:32.101102Z",
     "start_time": "2025-07-31T21:47:32.096136Z"
    }
   },
   "cell_type": "code",
   "source": [
    "# 分析df中的缺失值状况\n",
    "missing_counts = df.isnull().sum()\n",
    "print(missing_counts)"
   ],
   "id": "345d619fab0e3e2f",
   "outputs": [
    {
     "name": "stdout",
     "output_type": "stream",
     "text": [
      "Si              0\n",
      "Fe              0\n",
      "Cu              0\n",
      "Mn              0\n",
      "Mg              0\n",
      "             ... \n",
      "Ring            0\n",
      "Forging         0\n",
      "Ingot           0\n",
      "Fin Stock       0\n",
      "ELONGATION    147\n",
      "Length: 65, dtype: int64\n"
     ]
    }
   ],
   "execution_count": 3
  },
  {
   "metadata": {},
   "cell_type": "code",
   "outputs": [],
   "execution_count": null,
   "source": "",
   "id": "8675361e54a84c8b"
  }
 ],
 "metadata": {
  "kernelspec": {
   "display_name": "Python 3",
   "language": "python",
   "name": "python3"
  },
  "language_info": {
   "codemirror_mode": {
    "name": "ipython",
    "version": 2
   },
   "file_extension": ".py",
   "mimetype": "text/x-python",
   "name": "python",
   "nbconvert_exporter": "python",
   "pygments_lexer": "ipython2",
   "version": "2.7.6"
  }
 },
 "nbformat": 4,
 "nbformat_minor": 5
}
